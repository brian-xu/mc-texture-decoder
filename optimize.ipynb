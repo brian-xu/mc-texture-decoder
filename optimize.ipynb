{
 "cells": [
  {
   "cell_type": "code",
   "execution_count": 1,
   "id": "6b135148",
   "metadata": {},
   "outputs": [],
   "source": [
    "import torch\n",
    "import numpy as np"
   ]
  },
  {
   "cell_type": "code",
   "execution_count": 2,
   "id": "b3928fcf",
   "metadata": {},
   "outputs": [
    {
     "name": "stderr",
     "output_type": "stream",
     "text": [
      "/tmp/ipykernel_417705/1400281998.py:2: FutureWarning: You are using `torch.load` with `weights_only=False` (the current default value), which uses the default pickle module implicitly. It is possible to construct malicious pickle data which will execute arbitrary code during unpickling (See https://github.com/pytorch/pytorch/blob/main/SECURITY.md#untrusted-models for more details). In a future release, the default value for `weights_only` will be flipped to `True`. This limits the functions that could be executed during unpickling. Arbitrary objects will no longer be allowed to be loaded via this mode unless they are explicitly allowlisted by the user via `torch.serialization.add_safe_globals`. We recommend you start setting `weights_only=True` for any use case where you don't have full control of the loaded file. Please open an issue on GitHub for any issues related to this experimental feature.\n",
      "  checkpoint = torch.load(\"ckpt/best_ckpt.pth\")\n"
     ]
    }
   ],
   "source": [
    "gt_imgs = np.load(\"processed/images.npy\")\n",
    "checkpoint = torch.load(\"ckpt/best_ckpt.pth\")"
   ]
  },
  {
   "cell_type": "code",
   "execution_count": 3,
   "id": "bf051514",
   "metadata": {},
   "outputs": [
    {
     "data": {
      "text/plain": [
       "TextureDecoder(\n",
       "  (decoder): ModuleList(\n",
       "    (0): Linear(in_features=72, out_features=576, bias=True)\n",
       "    (1): ReLU()\n",
       "    (2): Linear(in_features=576, out_features=4608, bias=True)\n",
       "    (3): ReLU()\n",
       "    (4): Linear(in_features=4608, out_features=3072, bias=True)\n",
       "    (5): Unflatten(dim=1, unflattened_size=(12, 16, 16))\n",
       "    (6): Conv2d(12, 6, kernel_size=(3, 3), stride=(1, 1), padding=(1, 1))\n",
       "    (7): ReLU()\n",
       "    (8): Conv2d(6, 3, kernel_size=(3, 3), stride=(1, 1), padding=(1, 1))\n",
       "  )\n",
       ")"
      ]
     },
     "execution_count": 3,
     "metadata": {},
     "output_type": "execute_result"
    }
   ],
   "source": [
    "from model import TextureDecoder\n",
    "\n",
    "model = TextureDecoder()\n",
    "model.load_state_dict(checkpoint)\n",
    "model = model.cuda()\n",
    "model.eval()"
   ]
  },
  {
   "cell_type": "code",
   "execution_count": 4,
   "id": "8d525b8f",
   "metadata": {},
   "outputs": [],
   "source": [
    "i = 0"
   ]
  },
  {
   "cell_type": "code",
   "execution_count": 5,
   "id": "ec9bd145",
   "metadata": {},
   "outputs": [
    {
     "data": {
      "image/png": "[encoded data removed]",
      "text/plain": [
       "<Figure size 640x480 with 1 Axes>"
      ]
     },
     "metadata": {},
     "output_type": "display_data"
    }
   ],
   "source": [
    "import matplotlib.pyplot as plt\n",
    "gt_np = gt_imgs[i]\n",
    "imgplot = plt.imshow(gt_np)\n",
    "plt.show()"
   ]
  },
  {
   "cell_type": "code",
   "execution_count": 6,
   "id": "b5ba2519",
   "metadata": {},
   "outputs": [],
   "source": [
    "import torch.nn as nn\n",
    "\n",
    "class TTO(nn.Module):\n",
    "    def __init__(self, decoder):\n",
    "        super(TTO, self).__init__()\n",
    "        self.decoder = decoder\n",
    "        self.pred = torch.nn.Parameter(torch.zeros(1, 72).cuda(), requires_grad=True)\n",
    "    \n",
    "    def forward(self):\n",
    "        return self.decoder(self.pred)"
   ]
  },
  {
   "cell_type": "code",
   "execution_count": 7,
   "id": "1d8c7093",
   "metadata": {},
   "outputs": [],
   "source": [
    "tto_model = TTO(model)\n",
    "tto_iters = 1000\n",
    "optimizer = torch.optim.Adam(tto_model.parameters(), betas=(0.9, 0.99), eps=1e-6)\n",
    "mse = torch.nn.MSELoss()\n",
    "gt = torch.from_numpy(gt_np).unsqueeze(0).float().cuda()"
   ]
  },
  {
   "cell_type": "code",
   "execution_count": 8,
   "id": "34abffdb",
   "metadata": {},
   "outputs": [],
   "source": [
    "for step in range(tto_iters):\n",
    "    pred = tto_model()\n",
    "    loss = mse(pred, gt)\n",
    "    loss.backward()\n",
    "    optimizer.step()\n",
    "    optimizer.zero_grad()"
   ]
  },
  {
   "cell_type": "code",
   "execution_count": 9,
   "id": "f8fee731",
   "metadata": {},
   "outputs": [
    {
     "data": {
      "image/png": "[encoded data removed]",
      "text/plain": [
       "<Figure size 640x480 with 1 Axes>"
      ]
     },
     "metadata": {},
     "output_type": "display_data"
    }
   ],
   "source": [
    "pred = tto_model().detach().cpu().numpy()[0]\n",
    "demo = np.hstack([pred, gt_np])\n",
    "\n",
    "imgplot = plt.imshow(demo)\n",
    "plt.show()"
   ]
  }
 ],
 "metadata": {
  "kernelspec": {
   "display_name": "pc2",
   "language": "python",
   "name": "python3"
  },
  "language_info": {
   "codemirror_mode": {
    "name": "ipython",
    "version": 3
   },
   "file_extension": ".py",
   "mimetype": "text/x-python",
   "name": "python",
   "nbconvert_exporter": "python",
   "pygments_lexer": "ipython3",
   "version": "3.10.18"
  }
 },
 "nbformat": 4,
 "nbformat_minor": 5
}
